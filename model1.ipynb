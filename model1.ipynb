{
 "cells": [
  {
   "cell_type": "code",
   "execution_count": 1,
   "id": "4b9a3134",
   "metadata": {
    "_cell_guid": "b1076dfc-b9ad-4769-8c92-a6c4dae69d19",
    "_uuid": "8f2839f25d086af736a60e9eeb907d3b93b6e0e5",
    "execution": {
     "iopub.execute_input": "2023-04-16T16:34:52.938612Z",
     "iopub.status.busy": "2023-04-16T16:34:52.937613Z",
     "iopub.status.idle": "2023-04-16T16:34:52.948271Z",
     "shell.execute_reply": "2023-04-16T16:34:52.946968Z"
    },
    "papermill": {
     "duration": 0.02212,
     "end_time": "2023-04-16T16:34:52.950882",
     "exception": false,
     "start_time": "2023-04-16T16:34:52.928762",
     "status": "completed"
    },
    "tags": []
   },
   "outputs": [],
   "source": [
    "# This Python 3 environment comes with many helpful analytics libraries installed\n",
    "# It is defined by the kaggle/python Docker image: https://github.com/kaggle/docker-python\n",
    "# For example, here's several helpful packages to load\n",
    "\n",
    "import numpy as np # linear algebra\n",
    "import pandas as pd # data processing, CSV file I/O (e.g. pd.read_csv)\n",
    "\n",
    "# Input data files are available in the read-only \"../input/\" directory\n",
    "# For example, running this (by clicking run or pressing Shift+Enter) will list all files under the input directory\n",
    "\n",
    "import os\n"
   ]
  },
  {
   "cell_type": "code",
   "execution_count": 2,
   "id": "17de297b",
   "metadata": {
    "execution": {
     "iopub.execute_input": "2023-04-16T16:34:52.965046Z",
     "iopub.status.busy": "2023-04-16T16:34:52.964619Z",
     "iopub.status.idle": "2023-04-16T16:34:53.233991Z",
     "shell.execute_reply": "2023-04-16T16:34:53.232983Z"
    },
    "papermill": {
     "duration": 0.279091,
     "end_time": "2023-04-16T16:34:53.236493",
     "exception": false,
     "start_time": "2023-04-16T16:34:52.957402",
     "status": "completed"
    },
    "tags": []
   },
   "outputs": [
    {
     "name": "stdout",
     "output_type": "stream",
     "text": [
      "<class 'pandas.core.frame.DataFrame'>\n",
      "RangeIndex: 1696 entries, 0 to 1695\n",
      "Data columns (total 38 columns):\n",
      " #   Column                     Non-Null Count  Dtype  \n",
      "---  ------                     --------------  -----  \n",
      " 0   patient_id                 1696 non-null   object \n",
      " 1   breast_density             1696 non-null   int64  \n",
      " 2   left or right breast       1696 non-null   object \n",
      " 3   image view                 1696 non-null   object \n",
      " 4   abnormality id             1696 non-null   int64  \n",
      " 5   abnormality type           1696 non-null   object \n",
      " 6   mass shape                 1692 non-null   object \n",
      " 7   mass margins               1636 non-null   object \n",
      " 8   assessment                 1696 non-null   int64  \n",
      " 9   pathology                  1696 non-null   object \n",
      " 10  subtlety                   1696 non-null   int64  \n",
      " 11  image file path            1696 non-null   object \n",
      " 12  cropped image file path    1696 non-null   object \n",
      " 13  ROI mask file path         1696 non-null   object \n",
      " 14  StudyInstanceUID           1696 non-null   object \n",
      " 15  image_path                 1696 non-null   object \n",
      " 16  BitsAllocated              1696 non-null   int64  \n",
      " 17  BitsStored                 1696 non-null   int64  \n",
      " 18  BodyPartExamined           1696 non-null   object \n",
      " 19  Columns                    1696 non-null   int64  \n",
      " 20  ContentDate                1696 non-null   int64  \n",
      " 21  ContentTime                1696 non-null   float64\n",
      " 22  ConversionType             1696 non-null   object \n",
      " 23  HighBit                    1696 non-null   int64  \n",
      " 24  InstanceNumber             1696 non-null   int64  \n",
      " 25  LargestImagePixelValue     1696 non-null   int64  \n",
      " 26  Laterality                 1696 non-null   object \n",
      " 27  Modality                   1696 non-null   object \n",
      " 28  PatientID                  1696 non-null   object \n",
      " 29  PatientName                1696 non-null   object \n",
      " 30  PatientOrientation         1696 non-null   object \n",
      " 31  PhotometricInterpretation  1696 non-null   object \n",
      " 32  Rows                       1696 non-null   int64  \n",
      " 33  SOPClassUID                1696 non-null   object \n",
      " 34  SOPInstanceUID             1696 non-null   object \n",
      " 35  SeriesDescription          1696 non-null   object \n",
      " 36  SeriesInstanceUID          1696 non-null   object \n",
      " 37  file_path                  1696 non-null   object \n",
      "dtypes: float64(1), int64(12), object(25)\n",
      "memory usage: 503.6+ KB\n"
     ]
    }
   ],
   "source": [
    "calc=pd.read_csv(\"/kaggle/input/breast-cancer-data-set/mass.csv\")\n",
    "calc.info()"
   ]
  },
  {
   "cell_type": "code",
   "execution_count": 3,
   "id": "2640fd5b",
   "metadata": {
    "execution": {
     "iopub.execute_input": "2023-04-16T16:34:53.250503Z",
     "iopub.status.busy": "2023-04-16T16:34:53.250068Z",
     "iopub.status.idle": "2023-04-16T16:34:53.264488Z",
     "shell.execute_reply": "2023-04-16T16:34:53.263263Z"
    },
    "papermill": {
     "duration": 0.024372,
     "end_time": "2023-04-16T16:34:53.267006",
     "exception": false,
     "start_time": "2023-04-16T16:34:53.242634",
     "status": "completed"
    },
    "tags": []
   },
   "outputs": [
    {
     "data": {
      "text/plain": [
       "patient_id                    0\n",
       "breast_density                0\n",
       "left or right breast          0\n",
       "image view                    0\n",
       "abnormality id                0\n",
       "abnormality type              0\n",
       "mass shape                    4\n",
       "mass margins                 60\n",
       "assessment                    0\n",
       "pathology                     0\n",
       "subtlety                      0\n",
       "image file path               0\n",
       "cropped image file path       0\n",
       "ROI mask file path            0\n",
       "StudyInstanceUID              0\n",
       "image_path                    0\n",
       "BitsAllocated                 0\n",
       "BitsStored                    0\n",
       "BodyPartExamined              0\n",
       "Columns                       0\n",
       "ContentDate                   0\n",
       "ContentTime                   0\n",
       "ConversionType                0\n",
       "HighBit                       0\n",
       "InstanceNumber                0\n",
       "LargestImagePixelValue        0\n",
       "Laterality                    0\n",
       "Modality                      0\n",
       "PatientID                     0\n",
       "PatientName                   0\n",
       "PatientOrientation            0\n",
       "PhotometricInterpretation     0\n",
       "Rows                          0\n",
       "SOPClassUID                   0\n",
       "SOPInstanceUID                0\n",
       "SeriesDescription             0\n",
       "SeriesInstanceUID             0\n",
       "file_path                     0\n",
       "dtype: int64"
      ]
     },
     "execution_count": 3,
     "metadata": {},
     "output_type": "execute_result"
    }
   ],
   "source": [
    "calc.isna().sum()"
   ]
  },
  {
   "cell_type": "code",
   "execution_count": 4,
   "id": "3f900dce",
   "metadata": {
    "execution": {
     "iopub.execute_input": "2023-04-16T16:34:53.282906Z",
     "iopub.status.busy": "2023-04-16T16:34:53.281830Z",
     "iopub.status.idle": "2023-04-16T16:34:53.303684Z",
     "shell.execute_reply": "2023-04-16T16:34:53.302650Z"
    },
    "papermill": {
     "duration": 0.032524,
     "end_time": "2023-04-16T16:34:53.306187",
     "exception": false,
     "start_time": "2023-04-16T16:34:53.273663",
     "status": "completed"
    },
    "tags": []
   },
   "outputs": [
    {
     "data": {
      "text/plain": [
       "patient_id                   0\n",
       "breast_density               0\n",
       "left or right breast         0\n",
       "image view                   0\n",
       "abnormality id               0\n",
       "abnormality type             0\n",
       "mass shape                   0\n",
       "mass margins                 0\n",
       "assessment                   0\n",
       "pathology                    0\n",
       "subtlety                     0\n",
       "image file path              0\n",
       "cropped image file path      0\n",
       "ROI mask file path           0\n",
       "StudyInstanceUID             0\n",
       "image_path                   0\n",
       "BitsAllocated                0\n",
       "BitsStored                   0\n",
       "BodyPartExamined             0\n",
       "Columns                      0\n",
       "ContentDate                  0\n",
       "ContentTime                  0\n",
       "ConversionType               0\n",
       "HighBit                      0\n",
       "InstanceNumber               0\n",
       "LargestImagePixelValue       0\n",
       "Laterality                   0\n",
       "Modality                     0\n",
       "PatientID                    0\n",
       "PatientName                  0\n",
       "PatientOrientation           0\n",
       "PhotometricInterpretation    0\n",
       "Rows                         0\n",
       "SOPClassUID                  0\n",
       "SOPInstanceUID               0\n",
       "SeriesDescription            0\n",
       "SeriesInstanceUID            0\n",
       "file_path                    0\n",
       "dtype: int64"
      ]
     },
     "execution_count": 4,
     "metadata": {},
     "output_type": "execute_result"
    }
   ],
   "source": [
    "calc_clean=calc.copy()\n",
    "calc_clean['mass shape'].fillna(method = 'bfill', axis = 0, inplace=True) \n",
    "calc_clean['mass margins'].fillna(method = 'bfill', axis = 0, inplace=True)\n",
    "calc_clean.isna().sum()"
   ]
  },
  {
   "cell_type": "code",
   "execution_count": 5,
   "id": "498243d1",
   "metadata": {
    "execution": {
     "iopub.execute_input": "2023-04-16T16:34:53.320530Z",
     "iopub.status.busy": "2023-04-16T16:34:53.320089Z",
     "iopub.status.idle": "2023-04-16T16:34:53.356346Z",
     "shell.execute_reply": "2023-04-16T16:34:53.355076Z"
    },
    "papermill": {
     "duration": 0.046683,
     "end_time": "2023-04-16T16:34:53.359048",
     "exception": false,
     "start_time": "2023-04-16T16:34:53.312365",
     "status": "completed"
    },
    "tags": []
   },
   "outputs": [
    {
     "name": "stdout",
     "output_type": "stream",
     "text": [
      "<class 'pandas.core.frame.DataFrame'>\n",
      "RangeIndex: 1696 entries, 0 to 1695\n",
      "Data columns (total 2 columns):\n",
      " #   Column      Non-Null Count  Dtype \n",
      "---  ------      --------------  ----- \n",
      " 0   pathology   1696 non-null   object\n",
      " 1   image_path  1696 non-null   object\n",
      "dtypes: object(2)\n",
      "memory usage: 26.6+ KB\n"
     ]
    },
    {
     "data": {
      "text/html": [
       "<div>\n",
       "<style scoped>\n",
       "    .dataframe tbody tr th:only-of-type {\n",
       "        vertical-align: middle;\n",
       "    }\n",
       "\n",
       "    .dataframe tbody tr th {\n",
       "        vertical-align: top;\n",
       "    }\n",
       "\n",
       "    .dataframe thead th {\n",
       "        text-align: right;\n",
       "    }\n",
       "</style>\n",
       "<table border=\"1\" class=\"dataframe\">\n",
       "  <thead>\n",
       "    <tr style=\"text-align: right;\">\n",
       "      <th></th>\n",
       "      <th>pathology</th>\n",
       "      <th>image_path</th>\n",
       "    </tr>\n",
       "  </thead>\n",
       "  <tbody>\n",
       "    <tr>\n",
       "      <th>0</th>\n",
       "      <td>MALIGNANT</td>\n",
       "      <td>CBIS-DDSM/jpeg/1.3.6.1.4.1.9590.100.1.2.245063...</td>\n",
       "    </tr>\n",
       "    <tr>\n",
       "      <th>1</th>\n",
       "      <td>MALIGNANT</td>\n",
       "      <td>CBIS-DDSM/jpeg/1.3.6.1.4.1.9590.100.1.2.859522...</td>\n",
       "    </tr>\n",
       "    <tr>\n",
       "      <th>2</th>\n",
       "      <td>MALIGNANT</td>\n",
       "      <td>CBIS-DDSM/jpeg/1.3.6.1.4.1.9590.100.1.2.221311...</td>\n",
       "    </tr>\n",
       "    <tr>\n",
       "      <th>3</th>\n",
       "      <td>MALIGNANT</td>\n",
       "      <td>CBIS-DDSM/jpeg/1.3.6.1.4.1.9590.100.1.2.239949...</td>\n",
       "    </tr>\n",
       "    <tr>\n",
       "      <th>4</th>\n",
       "      <td>BENIGN</td>\n",
       "      <td>CBIS-DDSM/jpeg/1.3.6.1.4.1.9590.100.1.2.215081...</td>\n",
       "    </tr>\n",
       "  </tbody>\n",
       "</table>\n",
       "</div>"
      ],
      "text/plain": [
       "   pathology                                         image_path\n",
       "0  MALIGNANT  CBIS-DDSM/jpeg/1.3.6.1.4.1.9590.100.1.2.245063...\n",
       "1  MALIGNANT  CBIS-DDSM/jpeg/1.3.6.1.4.1.9590.100.1.2.859522...\n",
       "2  MALIGNANT  CBIS-DDSM/jpeg/1.3.6.1.4.1.9590.100.1.2.221311...\n",
       "3  MALIGNANT  CBIS-DDSM/jpeg/1.3.6.1.4.1.9590.100.1.2.239949...\n",
       "4     BENIGN  CBIS-DDSM/jpeg/1.3.6.1.4.1.9590.100.1.2.215081..."
      ]
     },
     "execution_count": 5,
     "metadata": {},
     "output_type": "execute_result"
    }
   ],
   "source": [
    "calc_work=calc_clean[[\"pathology\",\"image_path\"]]\n",
    "calc_work.info()\n",
    "calc_work.describe()\n",
    "calc_work.head()"
   ]
  },
  {
   "cell_type": "code",
   "execution_count": 6,
   "id": "383300e1",
   "metadata": {
    "execution": {
     "iopub.execute_input": "2023-04-16T16:34:53.375045Z",
     "iopub.status.busy": "2023-04-16T16:34:53.373934Z",
     "iopub.status.idle": "2023-04-16T16:34:53.380428Z",
     "shell.execute_reply": "2023-04-16T16:34:53.379120Z"
    },
    "papermill": {
     "duration": 0.017429,
     "end_time": "2023-04-16T16:34:53.383185",
     "exception": false,
     "start_time": "2023-04-16T16:34:53.365756",
     "status": "completed"
    },
    "tags": []
   },
   "outputs": [],
   "source": [
    "image_dir=\"/kaggle/input/cbis-ddsm-breast-cancer-image-dataset/jpeg\"\n",
    "\n",
    "calc_work1=calc_work.copy()\n",
    "\n"
   ]
  },
  {
   "cell_type": "code",
   "execution_count": 7,
   "id": "089f52e7",
   "metadata": {
    "execution": {
     "iopub.execute_input": "2023-04-16T16:34:53.398627Z",
     "iopub.status.busy": "2023-04-16T16:34:53.397834Z",
     "iopub.status.idle": "2023-04-16T16:34:53.405721Z",
     "shell.execute_reply": "2023-04-16T16:34:53.404494Z"
    },
    "papermill": {
     "duration": 0.018356,
     "end_time": "2023-04-16T16:34:53.408228",
     "exception": false,
     "start_time": "2023-04-16T16:34:53.389872",
     "status": "completed"
    },
    "tags": []
   },
   "outputs": [],
   "source": [
    "calc_work1['image_path'] = calc_work1['image_path'].apply(lambda x: x.replace('CBIS-DDSM/jpeg', image_dir))\n"
   ]
  },
  {
   "cell_type": "code",
   "execution_count": 8,
   "id": "c3af05a8",
   "metadata": {
    "execution": {
     "iopub.execute_input": "2023-04-16T16:34:53.423858Z",
     "iopub.status.busy": "2023-04-16T16:34:53.423047Z",
     "iopub.status.idle": "2023-04-16T16:34:53.430862Z",
     "shell.execute_reply": "2023-04-16T16:34:53.429951Z"
    },
    "papermill": {
     "duration": 0.018393,
     "end_time": "2023-04-16T16:34:53.433171",
     "exception": false,
     "start_time": "2023-04-16T16:34:53.414778",
     "status": "completed"
    },
    "tags": []
   },
   "outputs": [
    {
     "data": {
      "text/plain": [
       "0    /kaggle/input/cbis-ddsm-breast-cancer-image-da...\n",
       "1    /kaggle/input/cbis-ddsm-breast-cancer-image-da...\n",
       "2    /kaggle/input/cbis-ddsm-breast-cancer-image-da...\n",
       "3    /kaggle/input/cbis-ddsm-breast-cancer-image-da...\n",
       "4    /kaggle/input/cbis-ddsm-breast-cancer-image-da...\n",
       "Name: image_path, dtype: object"
      ]
     },
     "execution_count": 8,
     "metadata": {},
     "output_type": "execute_result"
    }
   ],
   "source": [
    "calc_work1['image_path'].head()"
   ]
  },
  {
   "cell_type": "code",
   "execution_count": 9,
   "id": "a60b68e7",
   "metadata": {
    "execution": {
     "iopub.execute_input": "2023-04-16T16:34:53.448793Z",
     "iopub.status.busy": "2023-04-16T16:34:53.448305Z",
     "iopub.status.idle": "2023-04-16T16:34:53.463791Z",
     "shell.execute_reply": "2023-04-16T16:34:53.462072Z"
    },
    "papermill": {
     "duration": 0.026256,
     "end_time": "2023-04-16T16:34:53.466263",
     "exception": false,
     "start_time": "2023-04-16T16:34:53.440007",
     "status": "completed"
    },
    "tags": []
   },
   "outputs": [
    {
     "name": "stdout",
     "output_type": "stream",
     "text": [
      "<class 'pandas.core.frame.DataFrame'>\n",
      "Int64Index: 1555 entries, 0 to 1695\n",
      "Data columns (total 2 columns):\n",
      " #   Column      Non-Null Count  Dtype \n",
      "---  ------      --------------  ----- \n",
      " 0   pathology   1555 non-null   object\n",
      " 1   image_path  1555 non-null   object\n",
      "dtypes: object(2)\n",
      "memory usage: 36.4+ KB\n"
     ]
    }
   ],
   "source": [
    "df=calc_work1.drop(index=calc_work1[calc_work1[\"pathology\"]== \"BENIGN_WITHOUT_CALLBACK\"].index)\n",
    "\n",
    "df.head()\n",
    "df.info()"
   ]
  },
  {
   "cell_type": "code",
   "execution_count": 10,
   "id": "91b33c7f",
   "metadata": {
    "execution": {
     "iopub.execute_input": "2023-04-16T16:34:53.481965Z",
     "iopub.status.busy": "2023-04-16T16:34:53.481373Z",
     "iopub.status.idle": "2023-04-16T16:34:53.486829Z",
     "shell.execute_reply": "2023-04-16T16:34:53.485908Z"
    },
    "papermill": {
     "duration": 0.015981,
     "end_time": "2023-04-16T16:34:53.489128",
     "exception": false,
     "start_time": "2023-04-16T16:34:53.473147",
     "status": "completed"
    },
    "tags": []
   },
   "outputs": [],
   "source": [
    "import matplotlib.pyplot as plt\n",
    "import PIL"
   ]
  },
  {
   "cell_type": "code",
   "execution_count": 11,
   "id": "bbb29f94",
   "metadata": {
    "execution": {
     "iopub.execute_input": "2023-04-16T16:34:53.505441Z",
     "iopub.status.busy": "2023-04-16T16:34:53.504757Z",
     "iopub.status.idle": "2023-04-16T16:34:57.302012Z",
     "shell.execute_reply": "2023-04-16T16:34:57.300752Z"
    },
    "papermill": {
     "duration": 3.809629,
     "end_time": "2023-04-16T16:34:57.305915",
     "exception": false,
     "start_time": "2023-04-16T16:34:53.496286",
     "status": "completed"
    },
    "tags": []
   },
   "outputs": [
    {
     "data": {
      "image/png": "[encoded data removed]",
      "text/plain": [
       "<Figure size 2000x400 with 4 Axes>"
      ]
     },
     "metadata": {},
     "output_type": "display_data"
    }
   ],
   "source": [
    "# Create a subplot with 1 row and 4 columns\n",
    "fig, axs = plt.subplots(1, 4, figsize=(20, 4))\n",
    "\n",
    "# Iterate over the first 4 rows of the DataFrame using the \"head\" method\n",
    "for i, row in df.head(4).iterrows():\n",
    "    # Load the image and convert it to grayscale\n",
    "    full_mammogram_images_show = PIL.Image.open(row['image_path'])\n",
    "    gray_img = full_mammogram_images_show.convert(\"L\")\n",
    "    \n",
    "    # Show the image in a subplot with its corresponding label\n",
    "    axs[i].imshow(gray_img, cmap='Greys_r')\n",
    "    axs[i].axis('off')\n",
    "    axs[i].set_title(row['pathology'])\n",
    "    \n",
    "plt.show()"
   ]
  },
  {
   "cell_type": "code",
   "execution_count": 12,
   "id": "13d088b7",
   "metadata": {
    "execution": {
     "iopub.execute_input": "2023-04-16T16:34:57.326427Z",
     "iopub.status.busy": "2023-04-16T16:34:57.325591Z",
     "iopub.status.idle": "2023-04-16T16:34:57.330780Z",
     "shell.execute_reply": "2023-04-16T16:34:57.329964Z"
    },
    "papermill": {
     "duration": 0.017723,
     "end_time": "2023-04-16T16:34:57.333203",
     "exception": false,
     "start_time": "2023-04-16T16:34:57.315480",
     "status": "completed"
    },
    "tags": []
   },
   "outputs": [],
   "source": [
    "# Define the batch size and input shape for the CNN model\n",
    "batch_size = 32\n",
    "img_shape = (224, 224, 3)"
   ]
  },
  {
   "cell_type": "code",
   "execution_count": 13,
   "id": "2d67d3c4",
   "metadata": {
    "execution": {
     "iopub.execute_input": "2023-04-16T16:34:57.352281Z",
     "iopub.status.busy": "2023-04-16T16:34:57.351848Z",
     "iopub.status.idle": "2023-04-16T16:35:06.025591Z",
     "shell.execute_reply": "2023-04-16T16:35:06.024328Z"
    },
    "papermill": {
     "duration": 8.686867,
     "end_time": "2023-04-16T16:35:06.028587",
     "exception": false,
     "start_time": "2023-04-16T16:34:57.341720",
     "status": "completed"
    },
    "tags": []
   },
   "outputs": [],
   "source": [
    "import tensorflow as tf\n",
    "from tensorflow.keras.preprocessing.image import ImageDataGenerator\n",
    "from tensorflow.keras.models import Sequential\n",
    "from tensorflow.keras.layers import Conv2D, MaxPooling2D, Flatten, Dense, Dropout\n",
    "from tensorflow.keras.callbacks import ModelCheckpoint"
   ]
  },
  {
   "cell_type": "code",
   "execution_count": 14,
   "id": "f119822f",
   "metadata": {
    "execution": {
     "iopub.execute_input": "2023-04-16T16:35:06.048486Z",
     "iopub.status.busy": "2023-04-16T16:35:06.047661Z",
     "iopub.status.idle": "2023-04-16T16:35:06.053775Z",
     "shell.execute_reply": "2023-04-16T16:35:06.052511Z"
    },
    "papermill": {
     "duration": 0.019133,
     "end_time": "2023-04-16T16:35:06.056342",
     "exception": false,
     "start_time": "2023-04-16T16:35:06.037209",
     "status": "completed"
    },
    "tags": []
   },
   "outputs": [],
   "source": [
    "# set seed for reproducibility\n",
    "np.random.seed(42)\n",
    "tf.random.set_seed(42)"
   ]
  },
  {
   "cell_type": "code",
   "execution_count": 15,
   "id": "7df7b814",
   "metadata": {
    "execution": {
     "iopub.execute_input": "2023-04-16T16:35:06.075447Z",
     "iopub.status.busy": "2023-04-16T16:35:06.074996Z",
     "iopub.status.idle": "2023-04-16T16:35:13.497019Z",
     "shell.execute_reply": "2023-04-16T16:35:13.495618Z"
    },
    "papermill": {
     "duration": 7.434692,
     "end_time": "2023-04-16T16:35:13.499615",
     "exception": false,
     "start_time": "2023-04-16T16:35:06.064923",
     "status": "completed"
    },
    "tags": []
   },
   "outputs": [
    {
     "name": "stdout",
     "output_type": "stream",
     "text": [
      "Found 1244 validated image filenames belonging to 2 classes.\n",
      "Found 311 validated image filenames belonging to 2 classes.\n"
     ]
    }
   ],
   "source": [
    "\n",
    "train_datagen = ImageDataGenerator(rescale=1./255, validation_split=0.2)\n",
    "train_generator = train_datagen.flow_from_dataframe(dataframe=df,\n",
    "                                                    directory=\"./\",\n",
    "                                                    x_col=\"image_path\",\n",
    "                                                    y_col=\"pathology\",\n",
    "                                                    target_size=(128, 128),\n",
    "                                                    batch_size=32,\n",
    "                                                    class_mode=\"binary\",\n",
    "                                                    subset=\"training\",\n",
    "                                                    shuffle=True,\n",
    "                                                    seed=42)\n",
    "valid_generator = train_datagen.flow_from_dataframe(dataframe=df,\n",
    "                                                    directory=\"./\",\n",
    "                                                    x_col=\"image_path\",\n",
    "                                                    y_col=\"pathology\",\n",
    "                                                    target_size=(128, 128),\n",
    "                                                    batch_size=32,\n",
    "                                                    class_mode=\"binary\",\n",
    "                                                    subset=\"validation\",\n",
    "                                                    shuffle=True,\n",
    "                                                    seed=42)\n"
   ]
  },
  {
   "cell_type": "markdown",
   "id": "f133abbb",
   "metadata": {
    "papermill": {
     "duration": 0.008424,
     "end_time": "2023-04-16T16:35:13.517308",
     "exception": false,
     "start_time": "2023-04-16T16:35:13.508884",
     "status": "completed"
    },
    "tags": []
   },
   "source": [
    "model 1"
   ]
  },
  {
   "cell_type": "markdown",
   "id": "a6f76304",
   "metadata": {
    "papermill": {
     "duration": 0.008233,
     "end_time": "2023-04-16T16:35:13.534335",
     "exception": false,
     "start_time": "2023-04-16T16:35:13.526102",
     "status": "completed"
    },
    "tags": []
   },
   "source": [
    "model 2"
   ]
  },
  {
   "cell_type": "code",
   "execution_count": 16,
   "id": "48bd05d3",
   "metadata": {
    "execution": {
     "iopub.execute_input": "2023-04-16T16:35:13.554600Z",
     "iopub.status.busy": "2023-04-16T16:35:13.553251Z",
     "iopub.status.idle": "2023-04-16T17:14:16.547442Z",
     "shell.execute_reply": "2023-04-16T17:14:16.546397Z"
    },
    "papermill": {
     "duration": 2343.007125,
     "end_time": "2023-04-16T17:14:16.550179",
     "exception": false,
     "start_time": "2023-04-16T16:35:13.543054",
     "status": "completed"
    },
    "tags": []
   },
   "outputs": [
    {
     "name": "stdout",
     "output_type": "stream",
     "text": [
      "Epoch 1/10\n",
      "39/39 [==============================] - ETA: 0s - loss: 0.6927 - acc: 0.5161\n",
      "Epoch 1: val_loss improved from inf to 0.70406, saving model to saved_models/model-01-0.70.h5\n",
      "39/39 [==============================] - 267s 7s/step - loss: 0.6927 - acc: 0.5161 - val_loss: 0.7041 - val_acc: 0.4630\n",
      "Epoch 2/10\n",
      "39/39 [==============================] - ETA: 0s - loss: 0.6880 - acc: 0.5354\n",
      "Epoch 2: val_loss did not improve from 0.70406\n",
      "39/39 [==============================] - 212s 5s/step - loss: 0.6880 - acc: 0.5354 - val_loss: 0.7150 - val_acc: 0.4244\n",
      "Epoch 3/10\n",
      "39/39 [==============================] - ETA: 0s - loss: 0.6903 - acc: 0.5330\n",
      "Epoch 3: val_loss did not improve from 0.70406\n",
      "39/39 [==============================] - 217s 6s/step - loss: 0.6903 - acc: 0.5330 - val_loss: 0.7078 - val_acc: 0.4534\n",
      "Epoch 4/10\n",
      "39/39 [==============================] - ETA: 0s - loss: 0.6884 - acc: 0.5474\n",
      "Epoch 4: val_loss did not improve from 0.70406\n",
      "39/39 [==============================] - 211s 5s/step - loss: 0.6884 - acc: 0.5474 - val_loss: 0.7262 - val_acc: 0.4148\n",
      "Epoch 5/10\n",
      "39/39 [==============================] - ETA: 0s - loss: 0.6874 - acc: 0.5498\n",
      "Epoch 5: val_loss improved from 0.70406 to 0.69259, saving model to saved_models/model-05-0.69.h5\n",
      "39/39 [==============================] - 211s 5s/step - loss: 0.6874 - acc: 0.5498 - val_loss: 0.6926 - val_acc: 0.4887\n",
      "Epoch 6/10\n",
      "39/39 [==============================] - ETA: 0s - loss: 0.6889 - acc: 0.5514\n",
      "Epoch 6: val_loss did not improve from 0.69259\n",
      "39/39 [==============================] - 201s 5s/step - loss: 0.6889 - acc: 0.5514 - val_loss: 0.7012 - val_acc: 0.4695\n",
      "Epoch 7/10\n",
      "39/39 [==============================] - ETA: 0s - loss: 0.6854 - acc: 0.5563\n",
      "Epoch 7: val_loss did not improve from 0.69259\n",
      "39/39 [==============================] - 196s 5s/step - loss: 0.6854 - acc: 0.5563 - val_loss: 0.7056 - val_acc: 0.4662\n",
      "Epoch 8/10\n",
      "39/39 [==============================] - ETA: 0s - loss: 0.6829 - acc: 0.5715\n",
      "Epoch 8: val_loss improved from 0.69259 to 0.68881, saving model to saved_models/model-08-0.69.h5\n",
      "39/39 [==============================] - 191s 5s/step - loss: 0.6829 - acc: 0.5715 - val_loss: 0.6888 - val_acc: 0.5177\n",
      "Epoch 9/10\n",
      "39/39 [==============================] - ETA: 0s - loss: 0.6813 - acc: 0.5732\n",
      "Epoch 9: val_loss did not improve from 0.68881\n",
      "39/39 [==============================] - 185s 5s/step - loss: 0.6813 - acc: 0.5732 - val_loss: 0.7428 - val_acc: 0.4727\n",
      "Epoch 10/10\n",
      "39/39 [==============================] - ETA: 0s - loss: 0.6786 - acc: 0.5868\n",
      "Epoch 10: val_loss did not improve from 0.68881\n",
      "39/39 [==============================] - 185s 5s/step - loss: 0.6786 - acc: 0.5868 - val_loss: 0.6974 - val_acc: 0.4855\n"
     ]
    }
   ],
   "source": [
    "# define the model architecture\n",
    "model = Sequential()\n",
    "model.add(Conv2D(32, (3, 3), activation='relu', input_shape=(128, 128, 3)))\n",
    "model.add(MaxPooling2D((2, 2)))\n",
    "model.add(Conv2D(64, (3, 3), activation='relu'))\n",
    "model.add(MaxPooling2D((2, 2)))\n",
    "model.add(Conv2D(256, (3, 3), activation='relu'))\n",
    "model.add(MaxPooling2D((2, 2)))\n",
    "model.add(Conv2D(256, (3, 3), activation='relu'))\n",
    "model.add(MaxPooling2D((2, 2)))\n",
    "model.add(Flatten())\n",
    "model.add(Dense(512, activation='relu'))\n",
    "model.add(Dropout(0.5))\n",
    "model.add(Dense(1, activation='sigmoid'))\n",
    "\n",
    "# compile the model\n",
    "model.compile(loss='binary_crossentropy',\n",
    "              optimizer=tf.keras.optimizers.RMSprop(learning_rate=1e-4),\n",
    "              metrics=['acc'])\n",
    "\n",
    "# train the model\n",
    "filepath=\"saved_models/model-{epoch:02d}-{val_loss:.2f}.h5\"\n",
    "checkpoint = ModelCheckpoint(filepath, monitor='val_loss', verbose=1, save_best_only=True, mode='min')\n",
    "callbacks_list = [checkpoint]\n",
    "history = model.fit(train_generator,\n",
    "                    validation_data=valid_generator,\n",
    "                    epochs=10,\n",
    "                    callbacks=callbacks_list)\n",
    "\n",
    "# save the final model\n",
    "model.save(\"final_model2.h5\")"
   ]
  },
  {
   "cell_type": "markdown",
   "id": "5f58ed09",
   "metadata": {
    "papermill": {
     "duration": 0.0276,
     "end_time": "2023-04-16T17:14:16.606851",
     "exception": false,
     "start_time": "2023-04-16T17:14:16.579251",
     "status": "completed"
    },
    "tags": []
   },
   "source": [
    "model 3"
   ]
  },
  {
   "cell_type": "markdown",
   "id": "b5304aa5",
   "metadata": {
    "papermill": {
     "duration": 0.08771,
     "end_time": "2023-04-16T17:14:16.722499",
     "exception": false,
     "start_time": "2023-04-16T17:14:16.634789",
     "status": "completed"
    },
    "tags": []
   },
   "source": [
    "image input\n"
   ]
  },
  {
   "cell_type": "markdown",
   "id": "02785e25",
   "metadata": {
    "papermill": {
     "duration": 0.029032,
     "end_time": "2023-04-16T17:14:16.780758",
     "exception": false,
     "start_time": "2023-04-16T17:14:16.751726",
     "status": "completed"
    },
    "tags": []
   },
   "source": [
    "2nd option the show\n"
   ]
  },
  {
   "cell_type": "code",
   "execution_count": 17,
   "id": "322b3f0c",
   "metadata": {
    "execution": {
     "iopub.execute_input": "2023-04-16T17:14:16.839794Z",
     "iopub.status.busy": "2023-04-16T17:14:16.839119Z",
     "iopub.status.idle": "2023-04-16T17:14:17.338508Z",
     "shell.execute_reply": "2023-04-16T17:14:17.337696Z"
    },
    "papermill": {
     "duration": 0.531064,
     "end_time": "2023-04-16T17:14:17.340384",
     "exception": false,
     "start_time": "2023-04-16T17:14:16.809320",
     "status": "completed"
    },
    "tags": []
   },
   "outputs": [
    {
     "data": {
      "application/vnd.jupyter.widget-view+json": {
       "model_id": "a59fff791513435cad2ddda47a943a34",
       "version_major": 2,
       "version_minor": 0
      },
      "text/plain": [
       "FileUpload(value={}, accept='image/*', description='Upload')"
      ]
     },
     "metadata": {},
     "output_type": "display_data"
    },
    {
     "data": {
      "application/vnd.jupyter.widget-view+json": {
       "model_id": "085d2cd2535e44768ae4d283105fcbb6",
       "version_major": 2,
       "version_minor": 0
      },
      "text/plain": [
       "Button(description='Predict', style=ButtonStyle())"
      ]
     },
     "metadata": {},
     "output_type": "display_data"
    },
    {
     "data": {
      "application/vnd.jupyter.widget-view+json": {
       "model_id": "0d379d63a4c84725908987296a92ec5e",
       "version_major": 2,
       "version_minor": 0
      },
      "text/plain": [
       "Label(value='')"
      ]
     },
     "metadata": {},
     "output_type": "display_data"
    }
   ],
   "source": [
    "import tensorflow as tf\n",
    "from PIL import Image\n",
    "import io\n",
    "import ipywidgets as widgets\n",
    "import nibabel as nib\n",
    "\n",
    "# Define the input widget\n",
    "file_upload = widgets.FileUpload(accept='image/*')\n",
    "\n",
    "# Define the output widget\n",
    "pathology = widgets.Label()\n",
    "\n",
    "# Define the predict button\n",
    "predict_button = widgets.Button(description='Predict')\n",
    "\n",
    "# Load the pre-trained model\n",
    "model = tf.keras.models.load_model('final_model2.h5')\n",
    "\n",
    "# Define the make_prediction function\n",
    "def make_prediction(img):\n",
    "    # Convert the image to a NumPy array\n",
    "    img_array = tf.keras.preprocessing.image.img_to_array(img)\n",
    "    \n",
    "    # Expand the dimensions of the array to match the input shape of the model\n",
    "    img_array = tf.expand_dims(img_array, axis=0)\n",
    "    \n",
    "    # Normalize the pixel values to be between 0 and 1\n",
    "    img_array = img_array / 255.0\n",
    "    \n",
    "    # Make the prediction using the model\n",
    "    prediction = model.predict(img_array)\n",
    "    \n",
    "    # Return the predicted class\n",
    "    return 'malignant' if prediction[0][0] > 0.5 else 'benign'\n",
    "\n",
    "# Define the predict_image function\n",
    "def predict_image(button):\n",
    "    # Get the uploaded file\n",
    "    uploaded_image = file_upload.value\n",
    "    \n",
    "    # Read the uploaded file as an image\n",
    "    img = Image.open(io.BytesIO(uploaded_image[0]['content']))\n",
    "    \n",
    "    # Convert the grayscale image to an RGB image\n",
    "    img = img.convert('RGB')\n",
    "    \n",
    "    # Resize the image to 128x128\n",
    "    img = img.resize((128, 128))\n",
    "    \n",
    "    # Make the prediction using the resized image\n",
    "    prediction = make_prediction(img)\n",
    "    \n",
    "    # Update the pathology label with the prediction\n",
    "    pathology.value = f\"Prediction: {prediction}\"\n",
    "    \n",
    "# Attach the predict_image function to the predict button\n",
    "predict_button.on_click(predict_image)\n",
    "\n",
    "# Display the input widget and the label\n",
    "display(file_upload)\n",
    "display(predict_button)\n",
    "display(pathology)\n"
   ]
  },
  {
   "cell_type": "markdown",
   "id": "8ce69a07",
   "metadata": {
    "papermill": {
     "duration": 0.028399,
     "end_time": "2023-04-16T17:14:17.398153",
     "exception": false,
     "start_time": "2023-04-16T17:14:17.369754",
     "status": "completed"
    },
    "tags": []
   },
   "source": [
    "alternative"
   ]
  }
 ],
 "metadata": {
  "kernelspec": {
   "display_name": "Python 3",
   "language": "python",
   "name": "python3"
  },
  "language_info": {
   "codemirror_mode": {
    "name": "ipython",
    "version": 3
   },
   "file_extension": ".py",
   "mimetype": "text/x-python",
   "name": "python",
   "nbconvert_exporter": "python",
   "pygments_lexer": "ipython3",
   "version": "3.7.12"
  },
  "papermill": {
   "default_parameters": {},
   "duration": 2377.965602,
   "end_time": "2023-04-16T17:14:20.720004",
   "environment_variables": {},
   "exception": null,
   "input_path": "__notebook__.ipynb",
   "output_path": "__notebook__.ipynb",
   "parameters": {},
   "start_time": "2023-04-16T16:34:42.754402",
   "version": "2.4.0"
  },
  "widgets": {
   "application/vnd.jupyter.widget-state+json": {
    "state": {
     "085d2cd2535e44768ae4d283105fcbb6": {
      "model_module": "@jupyter-widgets/controls",
      "model_module_version": "1.5.0",
      "model_name": "ButtonModel",
      "state": {
       "_dom_classes": [],
       "_model_module": "@jupyter-widgets/controls",
       "_model_module_version": "1.5.0",
       "_model_name": "ButtonModel",
       "_view_count": null,
       "_view_module": "@jupyter-widgets/controls",
       "_view_module_version": "1.5.0",
       "_view_name": "ButtonView",
       "button_style": "",
       "description": "Predict",
       "disabled": false,
       "icon": "",
       "layout": "IPY_MODEL_9980e7dcaa3a4c828c32383a5d6cf07c",
       "style": "IPY_MODEL_3cb80f01d1fd475fa1102cdbbf262773",
       "tooltip": ""
      }
     },
     "0d379d63a4c84725908987296a92ec5e": {
      "model_module": "@jupyter-widgets/controls",
      "model_module_version": "1.5.0",
      "model_name": "LabelModel",
      "state": {
       "_dom_classes": [],
       "_model_module": "@jupyter-widgets/controls",
       "_model_module_version": "1.5.0",
       "_model_name": "LabelModel",
       "_view_count": null,
       "_view_module": "@jupyter-widgets/controls",
       "_view_module_version": "1.5.0",
       "_view_name": "LabelView",
       "description": "",
       "description_tooltip": null,
       "layout": "IPY_MODEL_36a5e9f3412f442ead04f57d886c92b1",
       "placeholder": "​",
       "style": "IPY_MODEL_dd28544d379c4899a6d060d2271d43f0",
       "value": ""
      }
     },
     "36a5e9f3412f442ead04f57d886c92b1": {
      "model_module": "@jupyter-widgets/base",
      "model_module_version": "1.2.0",
      "model_name": "LayoutModel",
      "state": {
       "_model_module": "@jupyter-widgets/base",
       "_model_module_version": "1.2.0",
       "_model_name": "LayoutModel",
       "_view_count": null,
       "_view_module": "@jupyter-widgets/base",
       "_view_module_version": "1.2.0",
       "_view_name": "LayoutView",
       "align_content": null,
       "align_items": null,
       "align_self": null,
       "border": null,
       "bottom": null,
       "display": null,
       "flex": null,
       "flex_flow": null,
       "grid_area": null,
       "grid_auto_columns": null,
       "grid_auto_flow": null,
       "grid_auto_rows": null,
       "grid_column": null,
       "grid_gap": null,
       "grid_row": null,
       "grid_template_areas": null,
       "grid_template_columns": null,
       "grid_template_rows": null,
       "height": null,
       "justify_content": null,
       "justify_items": null,
       "left": null,
       "margin": null,
       "max_height": null,
       "max_width": null,
       "min_height": null,
       "min_width": null,
       "object_fit": null,
       "object_position": null,
       "order": null,
       "overflow": null,
       "overflow_x": null,
       "overflow_y": null,
       "padding": null,
       "right": null,
       "top": null,
       "visibility": null,
       "width": null
      }
     },
     "3cb80f01d1fd475fa1102cdbbf262773": {
      "model_module": "@jupyter-widgets/controls",
      "model_module_version": "1.5.0",
      "model_name": "ButtonStyleModel",
      "state": {
       "_model_module": "@jupyter-widgets/controls",
       "_model_module_version": "1.5.0",
       "_model_name": "ButtonStyleModel",
       "_view_count": null,
       "_view_module": "@jupyter-widgets/base",
       "_view_module_version": "1.2.0",
       "_view_name": "StyleView",
       "button_color": null,
       "font_weight": ""
      }
     },
     "557850b5b9814114aa9d2dfe38c6266c": {
      "model_module": "@jupyter-widgets/controls",
      "model_module_version": "1.5.0",
      "model_name": "ButtonStyleModel",
      "state": {
       "_model_module": "@jupyter-widgets/controls",
       "_model_module_version": "1.5.0",
       "_model_name": "ButtonStyleModel",
       "_view_count": null,
       "_view_module": "@jupyter-widgets/base",
       "_view_module_version": "1.2.0",
       "_view_name": "StyleView",
       "button_color": null,
       "font_weight": ""
      }
     },
     "9980e7dcaa3a4c828c32383a5d6cf07c": {
      "model_module": "@jupyter-widgets/base",
      "model_module_version": "1.2.0",
      "model_name": "LayoutModel",
      "state": {
       "_model_module": "@jupyter-widgets/base",
       "_model_module_version": "1.2.0",
       "_model_name": "LayoutModel",
       "_view_count": null,
       "_view_module": "@jupyter-widgets/base",
       "_view_module_version": "1.2.0",
       "_view_name": "LayoutView",
       "align_content": null,
       "align_items": null,
       "align_self": null,
       "border": null,
       "bottom": null,
       "display": null,
       "flex": null,
       "flex_flow": null,
       "grid_area": null,
       "grid_auto_columns": null,
       "grid_auto_flow": null,
       "grid_auto_rows": null,
       "grid_column": null,
       "grid_gap": null,
       "grid_row": null,
       "grid_template_areas": null,
       "grid_template_columns": null,
       "grid_template_rows": null,
       "height": null,
       "justify_content": null,
       "justify_items": null,
       "left": null,
       "margin": null,
       "max_height": null,
       "max_width": null,
       "min_height": null,
       "min_width": null,
       "object_fit": null,
       "object_position": null,
       "order": null,
       "overflow": null,
       "overflow_x": null,
       "overflow_y": null,
       "padding": null,
       "right": null,
       "top": null,
       "visibility": null,
       "width": null
      }
     },
     "a59fff791513435cad2ddda47a943a34": {
      "model_module": "@jupyter-widgets/controls",
      "model_module_version": "1.5.0",
      "model_name": "FileUploadModel",
      "state": {
       "_counter": 0,
       "_dom_classes": [],
       "_model_module": "@jupyter-widgets/controls",
       "_model_module_version": "1.5.0",
       "_model_name": "FileUploadModel",
       "_view_count": null,
       "_view_module": "@jupyter-widgets/controls",
       "_view_module_version": "1.5.0",
       "_view_name": "FileUploadView",
       "accept": "image/*",
       "button_style": "",
       "data": [],
       "description": "Upload",
       "description_tooltip": null,
       "disabled": false,
       "error": "",
       "icon": "upload",
       "layout": "IPY_MODEL_dfcb7dd142404b0cb7ce98e5873e535d",
       "metadata": [],
       "multiple": false,
       "style": "IPY_MODEL_557850b5b9814114aa9d2dfe38c6266c"
      }
     },
     "dd28544d379c4899a6d060d2271d43f0": {
      "model_module": "@jupyter-widgets/controls",
      "model_module_version": "1.5.0",
      "model_name": "DescriptionStyleModel",
      "state": {
       "_model_module": "@jupyter-widgets/controls",
       "_model_module_version": "1.5.0",
       "_model_name": "DescriptionStyleModel",
       "_view_count": null,
       "_view_module": "@jupyter-widgets/base",
       "_view_module_version": "1.2.0",
       "_view_name": "StyleView",
       "description_width": ""
      }
     },
     "dfcb7dd142404b0cb7ce98e5873e535d": {
      "model_module": "@jupyter-widgets/base",
      "model_module_version": "1.2.0",
      "model_name": "LayoutModel",
      "state": {
       "_model_module": "@jupyter-widgets/base",
       "_model_module_version": "1.2.0",
       "_model_name": "LayoutModel",
       "_view_count": null,
       "_view_module": "@jupyter-widgets/base",
       "_view_module_version": "1.2.0",
       "_view_name": "LayoutView",
       "align_content": null,
       "align_items": null,
       "align_self": null,
       "border": null,
       "bottom": null,
       "display": null,
       "flex": null,
       "flex_flow": null,
       "grid_area": null,
       "grid_auto_columns": null,
       "grid_auto_flow": null,
       "grid_auto_rows": null,
       "grid_column": null,
       "grid_gap": null,
       "grid_row": null,
       "grid_template_areas": null,
       "grid_template_columns": null,
       "grid_template_rows": null,
       "height": null,
       "justify_content": null,
       "justify_items": null,
       "left": null,
       "margin": null,
       "max_height": null,
       "max_width": null,
       "min_height": null,
       "min_width": null,
       "object_fit": null,
       "object_position": null,
       "order": null,
       "overflow": null,
       "overflow_x": null,
       "overflow_y": null,
       "padding": null,
       "right": null,
       "top": null,
       "visibility": null,
       "width": null
      }
     }
    },
    "version_major": 2,
    "version_minor": 0
   }
  }
 },
 "nbformat": 4,
 "nbformat_minor": 5
}
